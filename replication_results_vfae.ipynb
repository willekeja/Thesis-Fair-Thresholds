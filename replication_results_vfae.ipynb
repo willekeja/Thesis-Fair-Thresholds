{
  "nbformat": 4,
  "nbformat_minor": 0,
  "metadata": {
    "colab": {
      "name": "replication_results_vfae.ipynb",
      "provenance": [],
      "collapsed_sections": []
    },
    "kernelspec": {
      "name": "python3",
      "display_name": "Python 3"
    },
    "accelerator": "GPU"
  },
  "cells": [
    {
      "cell_type": "markdown",
      "metadata": {
        "id": "EN3Xnb0S3Zoq",
        "colab_type": "text"
      },
      "source": [
        "# Replication results variational fair autoencoder\n",
        "\n",
        "This colab notebook gives the replication results for the vfae. Results are presented for the adult data set.\n",
        "In the paper, Louizos et. al. do report results on a test set, after models were trained on a training set and selected (but not retrained) on a validation set. They do not describe how performance on the validation set was computed, merely stating that the primary aim was fairness, but predictions should not be degenerate. This is a problem for replication, as such a criterion of performance is necessary for model selection. Instead of selecting models on validation data, for this reproduction 20 models are trained on a train set and their performance on the validation related to the test set. If good models that would be selected on training data achieve comparable performance as the performance reported by Louizos et. al. on test data, then their findings could be replicated as close as possible."
      ]
    },
    {
      "cell_type": "markdown",
      "metadata": {
        "id": "e4hIs15W5b_Z",
        "colab_type": "text"
      },
      "source": [
        "## Data preparation\n",
        "\n",
        "See http://www.cs.toronto.edu/~zemel/documents/fair-icml-supp-final.pdf for the details (Louizos et. al. based their data preparation on this paper). Quantitative data is quantilized as per the link. "
      ]
    },
    {
      "cell_type": "code",
      "metadata": {
        "id": "ffQycR3NxwzX",
        "colab_type": "code",
        "outputId": "bb575761-d0b6-4c58-92db-2ae07708d8c3",
        "colab": {
          "base_uri": "https://localhost:8080/",
          "height": 145
        }
      },
      "source": [
        "from google.colab import drive \n",
        "drive.mount('/content/gdrive/', force_remount=True)\n",
        "% cd gdrive/My Drive/Masterarbeit\n",
        "\n",
        "import preprocess \n",
        "import pandas as pd\n",
        "import numpy as np\n",
        "import seaborn as sns\n",
        "import math\n",
        "import warnings\n",
        "import matplotlib.pyplot as plt\n",
        "import sklearn \n",
        "import torch\n",
        "import torch.nn as nn\n",
        "import torch.utils.data\n",
        "import pickle\n",
        "import warnings\n",
        "from sklearn.linear_model import LogisticRegression\n",
        "\n",
        "warnings.simplefilter(action='ignore', category=FutureWarning)\n",
        "\n",
        "def quantilize(column):\n",
        "  quantile_list = [0,]\n",
        "  quantiles = [0.2,0.4,0.6, 0.8]\n",
        "  for quant in quantiles:\n",
        "    quantile_list.append(column.quantile(quantiles)[quant])\n",
        "  quantile_list.append(np.max(column))\n",
        "  column = pd.cut(column, bins=quantile_list, right = False, duplicates = 'drop')\n",
        "  return(column)\n",
        "\n",
        "\n",
        "adult = pd.read_csv('Dataset.data', delimiter = ' ', header = None)\n",
        "adult = adult.replace('?', np.nan)\n",
        "adult = adult.dropna()\n",
        "adult.columns = [\"Age\", \"WorkClass\", \"fnlwgt\", \"Education\", \"EducationNum\", \"MaritalStatus\", \"Occupation\", \"Relationship\", \"Race\", \"Gender\",\n",
        "                  \"CapitalGain\", \"CapitalLoss\", \"HoursPerWeek\", \"NativeCountry\", \"Income\"]\n",
        "\n",
        "adult[\"Income\"] = adult[\"Income\"].map({ \"<=50K\": 0, \">50K\": 1 })\n",
        "labels = adult[\"Income\"].values\n",
        "vars_to_drop = [\"Income\"]\n",
        "adult.drop(vars_to_drop, axis=1, inplace=True,)\n",
        "numvars = ['fnlwgt', 'CapitalLoss', 'Age', 'CapitalGain', 'EducationNum', 'HoursPerWeek']\n",
        "adult[numvars] = adult[numvars].apply(lambda x: x.astype(float))\n",
        "\n",
        "for numvar in numvars:\n",
        "  adult[numvar] = quantilize(adult[numvar])\n",
        "adult = pd.get_dummies(adult, drop_first = True, columns = adult.columns)\n",
        "colnames = adult.columns \n",
        "adult = pd.DataFrame(adult, columns = colnames)\n",
        "adult['label'] = labels\n",
        "adult.name = 'adult'\n",
        "\n",
        "\n",
        "class dataset_for_preprocessed(torch.utils.data.Dataset):\n",
        "  def __init__(self, data_set, sensitive_variable):\n",
        "    self.tensor_data = torch.from_numpy(data_set.values.astype(np.float32))\n",
        "    self.sensitive_variable = sensitive_variable\n",
        "  def __len__(self):\n",
        "    return len(self.tensor_data)\n",
        "\n",
        "  def __getitem__(self, idx):\n",
        "    feature_cols       = [x for x in range(self.tensor_data.size()[1]) if x != self.tensor_data.size()[1]-1 and  x!= self.sensitive_variable]\n",
        "    features           = self.tensor_data[idx, feature_cols]\n",
        "    sensitive_variable = self.tensor_data[idx, self.sensitive_variable]\n",
        "    labels             = self.tensor_data[idx, -1]\n",
        "    return features, sensitive_variable, labels\n",
        "\n"
      ],
      "execution_count": 0,
      "outputs": [
        {
          "output_type": "stream",
          "text": [
            "Go to this URL in a browser: https://accounts.google.com/o/oauth2/auth?client_id=947318989803-6bn6qk8qdgf4n4g3pfee6491hc0brc4i.apps.googleusercontent.com&redirect_uri=urn%3Aietf%3Awg%3Aoauth%3A2.0%3Aoob&scope=email%20https%3A%2F%2Fwww.googleapis.com%2Fauth%2Fdocs.test%20https%3A%2F%2Fwww.googleapis.com%2Fauth%2Fdrive%20https%3A%2F%2Fwww.googleapis.com%2Fauth%2Fdrive.photos.readonly%20https%3A%2F%2Fwww.googleapis.com%2Fauth%2Fpeopleapi.readonly&response_type=code\n",
            "\n",
            "Enter your authorization code:\n",
            "··········\n",
            "Mounted at /content/gdrive/\n",
            "/content/gdrive/My Drive/Masterarbeit\n"
          ],
          "name": "stdout"
        }
      ]
    },
    {
      "cell_type": "markdown",
      "metadata": {
        "id": "khmPxcrq7KtK",
        "colab_type": "text"
      },
      "source": [
        "## Model definition\n",
        "\n",
        "Code for MMD is taken from here: https://ermongroup.github.io/blog/a-tutorial-on-mmd-variational-autoencoders/. This is a full mmd and not just an approximation. The class dist defines the function going from hidden random variable to hidden random variable."
      ]
    },
    {
      "cell_type": "code",
      "metadata": {
        "id": "xeobu9UxxbAA",
        "colab_type": "code",
        "colab": {}
      },
      "source": [
        "\n",
        "class dist(nn.Module):\n",
        "  def __init__(self, in_dim, hidden, z):\n",
        "    super(dist, self).__init__()\n",
        "    self.hidden = nn.Sequential(nn.Linear(in_dim, hidden),\n",
        "                                nn.ReLU())\n",
        "  \n",
        "    \n",
        "    self.mu_l     = nn.Linear(hidden, z)\n",
        "    self.logsigma_l = nn.Linear(hidden, z)\n",
        "\n",
        "                                  \n",
        "  def forward(self, inputs):\n",
        "    hidden = self.hidden(inputs)\n",
        "\n",
        "\n",
        "    \n",
        "    mu     = self.mu_l(hidden)\n",
        "    logsigma  = self.logsigma_l(hidden)\n",
        "    return(mu, logsigma)\n",
        "  \n",
        "  \n",
        "def reparameterize(mu, logsigma):\n",
        "  eps              = torch.empty_like(logsigma).normal_() \n",
        "  eps              = eps.mul((logsigma*0.5)).exp().add(mu)\n",
        "  return(eps)  \n",
        "\n",
        "\n",
        "\n",
        "class vfae(nn.Module):\n",
        "  def __init__(self, d_x, hidden, z):\n",
        "    super(vfae, self).__init__()\n",
        "    self.q_z_1   = dist(d_x+1, hidden, z)\n",
        "    self.q_y     = nn.Sequential(nn.Linear(z, 1),\n",
        "                                 nn.Sigmoid())\n",
        "    self.q_z_2   = dist(z+1, hidden, z)\n",
        "    self.p_z_1   = dist(z+1, hidden, z)\n",
        "    self.p_x     = nn.Sequential(nn.Linear(z +1, hidden),\n",
        "                                 nn.ReLU(),\n",
        "                                 nn.Linear(hidden, d_x),\n",
        "                                 nn.Sigmoid())\n",
        "\n",
        "\n",
        "  def forward(self, x,s,y):\n",
        "    if self.training:\n",
        "      mu_q_z_1, logsigma_q_z_1 = self.q_z_1(torch.cat((x,s.unsqueeze(1)),1))\n",
        "      q_z_1_sample  = reparameterize(mu_q_z_1, logsigma_q_z_1)\n",
        "      y_recon       = self.q_y(q_z_1_sample)                             \n",
        "      mu_q_z_2, logsigma_q_z_2 =self.q_z_2(torch.cat((q_z_1_sample,y_recon),1))\n",
        "      q_z_2_sample  = reparameterize(mu_q_z_2, logsigma_q_z_2)\n",
        "      mu_p_z_1, logsigma_p_z_1 = self.p_z_1(torch.cat((q_z_2_sample,y),1))\n",
        "      p_z_1_sample  = reparameterize(mu_p_z_1, logsigma_p_z_1)\n",
        "      x_recon       = self.p_x(torch.cat((p_z_1_sample,s.unsqueeze(1)),1))\n",
        "\n",
        "      return({'mu_q_z_1': mu_q_z_1, 'logsigma_q_z_1': logsigma_q_z_1, 'y_recon': y_recon, 'mu_q_z_2': mu_q_z_2 , 'logsigma_q_z_2': logsigma_q_z_2, \n",
        "            'mu_p_z_1':mu_p_z_1, 'logsigma_p_z_1': logsigma_p_z_1, 'x_recon': x_recon, 'q_z_1_sample': q_z_1_sample})  \n",
        "    else:\n",
        "      mu_q_z_1, logsigma_q_z_1 = self.q_z_1(torch.cat((x,s.unsqueeze(1)),1))\n",
        "      q_z_1_sample  = reparameterize(mu_q_z_1, logsigma_q_z_1)\n",
        "      y_recon       = self.q_y(q_z_1_sample)\n",
        "      return y_recon, q_z_1_sample\n",
        "\n",
        "def compute_kernel(x, y):\n",
        "    x_size = x.size(0)\n",
        "    y_size = y.size(0)\n",
        "    dim = x.size(1)\n",
        "    x = x.unsqueeze(1) # (x_size, 1, dim)\n",
        "    y = y.unsqueeze(0) # (1, y_size, dim)\n",
        "    tiled_x = x.expand(x_size, y_size, dim)\n",
        "    tiled_y = y.expand(x_size, y_size, dim)\n",
        "    kernel_input = (tiled_x - tiled_y).pow(2).mean(2)/float(dim)\n",
        "    return torch.exp(-kernel_input) # (x_size, y_size)\n",
        "\n",
        "def compute_mmd(x, y):\n",
        "    x_kernel = compute_kernel(x, x)\n",
        "    y_kernel = compute_kernel(y, y)\n",
        "    xy_kernel = compute_kernel(x, y)\n",
        "    mmd = x_kernel.mean() + y_kernel.mean() - 2*xy_kernel.mean()\n",
        "    return mmd\n",
        "  \n",
        "def dkl_1_2(mu_1, sigma_1, mu_2, sigma_2):\n",
        "  return(1/2 * (torch.sum(sigma_2.log(), dim=0) - torch.sum(sigma_1.log(), dim = 0) - mu_1.size(0) + torch.sum((sigma_1/sigma_2), dim = 0) + torch.sum(((mu_1 - mu_2)**2 / sigma_2), dim = 0)))\n",
        "\n",
        "\n",
        "\n",
        "    \n",
        "def loss_function(x_recon, y_recon, mu_q_z_1, logsigma_q_z_1, mu_q_z_2, logsigma_q_z_2, mu_p_z_1, logsigma_p_z_1, x, y, s0, s1, l1_penalty, l2_penalty, mmd_penalty, variational_alpha = 1, **kwargs):  \n",
        "  recon_loss_x = nn.BCELoss(reduction = 'sum')(x_recon, x) \n",
        "  kldivergence_l_2 = dkl_1_2(mu_q_z_2, logsigma_q_z_2.exp(), torch.zeros(mu_q_z_2.size(0), mu_q_z_2.size(1)).cuda(), torch.ones(mu_q_z_2.size(0), mu_q_z_2.size(1)).cuda()).sum()\n",
        "  kldivergence_l_1 = dkl_1_2(mu_q_z_1, logsigma_q_z_1.exp(), mu_p_z_1, logsigma_p_z_1.exp()).sum()\n",
        "  mmd = compute_mmd(s0, s1)    \n",
        "  recon_loss_y = nn.BCELoss(reduction = 'sum')(y_recon, y)\n",
        "  return  1 * recon_loss_x +  recon_loss_y  + kldivergence_l_1 +  kldivergence_l_2 + mmd_penalty * mmd\n",
        "\n",
        " "
      ],
      "execution_count": 0,
      "outputs": []
    },
    {
      "cell_type": "markdown",
      "metadata": {
        "id": "5ITkNuOl-PDx",
        "colab_type": "text"
      },
      "source": [
        "## Training and Results\n",
        "\n",
        "The models are trained for different data set splits and results are reported on the validation set and test set. To keep results comparable to Louizos et. al., train, validation and test data are of the same size as in their paper. Results are comparable to what is reported by Louizos et. al."
      ]
    },
    {
      "cell_type": "code",
      "metadata": {
        "id": "1sIyiBqPMSsX",
        "colab_type": "code",
        "colab": {}
      },
      "source": [
        "results_dic = {}\n",
        "\n",
        "for i in range(20):\n",
        "  batch_size  = 100\n",
        "  weight      = np.asscalar(np.random.uniform(7000,20000, 1))\n",
        "  lr          = np.asscalar(np.random.uniform(0.004, 0.009, 1))\n",
        "\n",
        "\n",
        "  data_set = adult\n",
        "  data_set_size = adult.shape[1]\n",
        "  data_set_len = adult.shape[0]\n",
        "  sensitive_variable = adult.columns.get_loc('Gender_Male')\n",
        "  data_set = data_set.sample(frac=1, random_state = i)\n",
        "  data_set_train = dataset_for_preprocessed(data_set.iloc[:22000,:], sensitive_variable)  \n",
        "  data_set_train = dataset_for_preprocessed(data_set.iloc[22000:33000,:], sensitive_variable)  \n",
        "  data_set_test  = dataset_for_preprocessed(data_set.iloc[33000:,:], sensitive_variable)  \n",
        "  dataloader_train          = torch.utils.data.DataLoader(data_set_train, batch_size = batch_size, shuffle = True)\n",
        "  dataloader_train_complete = torch.utils.data.DataLoader(data_set_train, batch_size = 22000, shuffle = False)\n",
        "  dataloader_validate       = torch.utils.data.DataLoader(data_set_train, batch_size = 11000, shuffle = False)\n",
        "  dataloader_test           = torch.utils.data.DataLoader(data_set_test, batch_size = adult.shape[0]-33000, shuffle = False)\n",
        "\n",
        "  model = vfae(data_set_size-2, 100, 50).cuda()\n",
        "  optimizer = torch.optim.Adam(model.parameters(), lr = lr)\n",
        "\n",
        "  for epoch in range(15):\n",
        "    for batch in dataloader_train:\n",
        "\n",
        "      X, s, y = batch\n",
        "      X, s, y = X.cuda(), s.cuda(), y.cuda()\n",
        "      returns =     model(X,s,y.unsqueeze(1))\n",
        "      loss    = loss_function(x = X, y= y, s0 = returns['q_z_1_sample'][s==0], s1 = returns['q_z_1_sample'][s==1], l1_penalty = 1, l2_penalty = 1, mmd_penalty = weight  * batch_size, variational_alpha = 1, **returns)\n",
        "      loss.backward()\n",
        "      optimizer.step()\n",
        "      optimizer.zero_grad()\n",
        "\n",
        "  model.eval()\n",
        "  batch = next(iter(dataloader_train_complete))\n",
        "  X_train, s_train, y_train = batch\n",
        "  X_train, s_train, y_train= X_train.cuda(), s_train.cuda(), y_train.cuda()\n",
        "  y, z_1_train = model(X_train,s_train,y_train)\n",
        "  batch = next(iter(dataloader_test))\n",
        "  \n",
        "  batch = next(iter(dataloader_validate))\n",
        "  X_validate, s_validate, y_validate = batch\n",
        "  X_validate, s_validate, y_validate= X_validate.cuda(), s_validate.cuda(), y_validate.cuda()\n",
        "  y_recon_validate, z_1_validate = model(X_validate,s_validate,y_validate)\n",
        "  \n",
        "  accuracy_validate = (((y_recon_validate.squeeze()>0.5).int() == y_validate.int()).sum().float()/len(X_validate)).detach().cpu().numpy()\n",
        "\n",
        "  fairness_validate = (-(y_recon_validate[s_validate==0]>0.5).sum().float()/len(y_recon_validate[s_validate==0]) + (y_recon_validate[s_validate==1]>0.5).sum().float()/len(y_recon_validate[s_validate==1])).detach().cpu().numpy()\n",
        "  \n",
        "  batch = next(iter(dataloader_test))\n",
        "  \n",
        "  X_test, s_test, y_test = batch\n",
        "  X_test, s_test, y_test = X_test.cuda(), s_test.cuda(), y_test.cuda()\n",
        "  y_recon_test, z_1_test = model(X_test,s_test,y_test)\n",
        "\n",
        "  accuracy_test = (((y_recon_test.squeeze()>0.5).int() == y_test.int()).sum().float()/len(X_test)).detach().cpu().numpy()\n",
        "\n",
        "  fairness_test = (-(y_recon_test[s_test==0]>0.5).sum().float()/len(y_recon_test[s_test==0]) + (y_recon_test[s_test==1]>0.5).sum().float()/len(y_recon_test[s_test==1])).detach().cpu().numpy()\n",
        "  \n",
        "  logistic_s_z = (LogisticRegression().fit(z_1_train.detach().cpu().numpy(), s_train.detach().cpu().numpy()).predict(z_1_test.detach().cpu().numpy())== s_test.detach().cpu().numpy()).sum()/len(X_test)\n",
        " \n",
        "  results_dic[i] = {'accuracy_validate': accuracy_validate, 'fairness_validate': fairness_validate, 'accuracy_test': accuracy_test, 'fairness_test': fairness_test, 'logistic_s_vae': logistic_s_z}\n",
        "\n",
        "  print(results_dic)\n",
        "  \n",
        "torch.save('results_dic', 'replication_vfae.tar')\n",
        "\n",
        "  "
      ],
      "execution_count": 0,
      "outputs": []
    },
    {
      "cell_type": "code",
      "metadata": {
        "id": "d8v5b9gCIoCO",
        "colab_type": "code",
        "outputId": "8089b80e-6433-4e23-d26e-2a52f7891138",
        "colab": {
          "base_uri": "https://localhost:8080/",
          "height": 313
        }
      },
      "source": [
        "import seaborn as sns\n",
        "validate = pd.DataFrame.from_dict({key: {'accuracy' : results_dic[key]['accuracy_validate'], 'fairness' : results_dic[key]['fairness_validate'], 'index': key} for key in results_dic.keys()}, orient = 'index')\n",
        "plot = sns.scatterplot(validate.fairness, validate.accuracy)\n",
        "\n",
        "for line in range(20):\n",
        "     plot.text(validate.fairness[line], validate.accuracy[line], \n",
        "     validate.index[line], horizontalalignment='left', \n",
        "     size='medium', color='black', weight='semibold')\n",
        "plot.set(xlim = (-0.06, 0.12), ylim = (0.74, 0.85))\n",
        "plot.set_title('validate')"
      ],
      "execution_count": 0,
      "outputs": [
        {
          "output_type": "execute_result",
          "data": {
            "text/plain": [
              "Text(0.5, 1.0, 'validate')"
            ]
          },
          "metadata": {
            "tags": []
          },
          "execution_count": 25
        },
        {
          "output_type": "display_data",
          "data": {
            "image/png": "[encoded data removed]",
            "text/plain": [
              "<Figure size 432x288 with 1 Axes>"
            ]
          },
          "metadata": {
            "tags": []
          }
        }
      ]
    },
    {
      "cell_type": "code",
      "metadata": {
        "id": "JSNHCUb5NznF",
        "colab_type": "code",
        "outputId": "74cab896-3f9a-4b71-f46b-75d83389ebe7",
        "colab": {
          "base_uri": "https://localhost:8080/",
          "height": 313
        }
      },
      "source": [
        "test = pd.DataFrame.from_dict({key: {'accuracy' : results_dic[key]['accuracy_test'], 'fairness' : results_dic[key]['fairness_test'], 'index': key} for key in results_dic.keys()}, orient = 'index')\n",
        "plot = sns.scatterplot(test.fairness, test.accuracy, color = 'orange')\n",
        "\n",
        "for line in range(20):\n",
        "     plot.text(test.fairness[line], test.accuracy[line], \n",
        "     test.index[line], horizontalalignment='left', \n",
        "     size='medium', color='black', weight='semibold')\n",
        "plot.set(xlim = (-0.06, 0.12), ylim = (0.74, 0.85))\n",
        "plot.set_title('test')"
      ],
      "execution_count": 0,
      "outputs": [
        {
          "output_type": "execute_result",
          "data": {
            "text/plain": [
              "Text(0.5, 1.0, 'test')"
            ]
          },
          "metadata": {
            "tags": []
          },
          "execution_count": 27
        },
        {
          "output_type": "display_data",
          "data": {
            "image/png": "[encoded data removed]",
            "text/plain": [
              "<Figure size 432x288 with 1 Axes>"
            ]
          },
          "metadata": {
            "tags": []
          }
        }
      ]
    }
  ]
}