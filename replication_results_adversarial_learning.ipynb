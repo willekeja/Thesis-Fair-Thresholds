{
  "nbformat": 4,
  "nbformat_minor": 0,
  "metadata": {
    "colab": {
      "name": "replication_results_adversarial_learning.ipynb",
      "provenance": []
    },
    "kernelspec": {
      "name": "python3",
      "display_name": "Python 3"
    },
    "accelerator": "GPU"
  },
  "cells": [
    {
      "cell_type": "markdown",
      "metadata": {
        "id": "SRfNtmWWHSO2",
        "colab_type": "text"
      },
      "source": [
        "# Replication results adversarial learning\n",
        "Edwards and Stokey train 100 models on the train set, compute the performance as ($\\sum_{i} C(y_{i}|x_{i}, s_{i}) = y_{i}) - t * |\\sum_{i:s_{0}} C(y_{i}|x_{i}, s_{i}) / n_{s_{0}} - \\sum_{i:s_{1}} C(y_{i}|x_{i}, s_{i}) / n_{s_{1}}|$ , $t \\in [0,3]$ for varying values of $t$ on the validation set and then compute the performance on the test set (without retraining). The exact same approach was taken by the author. \n"
      ]
    },
    {
      "cell_type": "markdown",
      "metadata": {
        "id": "9AiusmuODYjq",
        "colab_type": "text"
      },
      "source": [
        "## Data preparation\n",
        "\n",
        "See http://www.cs.toronto.edu/~zemel/documents/fair-icml-supp-final.pdf for the details (Edwards and Stokey based their data preparation on this paper). Quantitative data is quantilized as per the link. \n"
      ]
    },
    {
      "cell_type": "code",
      "metadata": {
        "id": "Wwp5VNwbZirJ",
        "colab_type": "code",
        "outputId": "a87ec01e-281c-4ad5-81bb-48aa4de3327d",
        "colab": {
          "base_uri": "https://localhost:8080/",
          "height": 53
        }
      },
      "source": [
        "from google.colab import drive \n",
        "drive.mount('/content/gdrive/', force_remount=True)\n",
        "% cd gdrive/My Drive/Masterarbeit\n",
        "\n",
        "import preprocess \n",
        "import pandas as pd\n",
        "import numpy as np\n",
        "import seaborn as sns\n",
        "import math\n",
        "import warnings\n",
        "import matplotlib.pyplot as plt\n",
        "import sklearn \n",
        "import torch\n",
        "import torch.nn as nn\n",
        "import torch.utils.data\n",
        "import pickle\n",
        "import warnings\n",
        "from sklearn.linear_model import LogisticRegression\n",
        "import os\n",
        "\n",
        "warnings.simplefilter(action='ignore', category=FutureWarning)\n",
        "\n",
        "\n",
        "adult = pd.read_csv('Dataset.data', delimiter = ' ', header = None)\n",
        "adult = preprocess.pre_process_adult(adult)\n",
        "class dataset_for_preprocessed(torch.utils.data.Dataset):\n",
        "  def __init__(self, data_set, sensitive_variable):\n",
        "    self.tensor_data = torch.from_numpy(data_set.values.astype(np.float32))\n",
        "    self.sensitive_variable = sensitive_variable\n",
        "  def __len__(self):\n",
        "    return len(self.tensor_data)\n",
        "\n",
        "  def __getitem__(self, idx):\n",
        "    feature_cols       = [x for x in range(self.tensor_data.size()[1]) if x != self.tensor_data.size()[1]-1]\n",
        "    features           = self.tensor_data[idx, feature_cols]\n",
        "    sensitive_variable = self.tensor_data[idx, self.sensitive_variable]\n",
        "    labels             = self.tensor_data[idx, -1]\n",
        "    return features, sensitive_variable, labels\n",
        "\n",
        "\n",
        "\n"
      ],
      "execution_count": 0,
      "outputs": [
        {
          "output_type": "stream",
          "text": [
            "Mounted at /content/gdrive/\n",
            "/content/gdrive/My Drive/Masterarbeit\n"
          ],
          "name": "stdout"
        }
      ]
    },
    {
      "cell_type": "markdown",
      "metadata": {
        "id": "SwPR5_FPEGGq",
        "colab_type": "text"
      },
      "source": [
        "## Model Definition\n",
        "\n",
        "Model is defined so as to allow a two / three hidden layer classifier and a logistic regression / one hidden layer adversary (domain classifier)."
      ]
    },
    {
      "cell_type": "code",
      "metadata": {
        "id": "IlDCCoaRD8jE",
        "colab_type": "code",
        "colab": {}
      },
      "source": [
        "class label_classifier(nn.Module):\n",
        "  \n",
        "     def __init__(self, D_in, hidden, clas_simple):\n",
        "         \n",
        "       super(label_classifier, self).__init__()\n",
        "       self.clas_simple = clas_simple\n",
        "          \n",
        "       self.linear_1  = nn.Linear(D_in, hidden) \n",
        "       self.linear_2  = nn.Linear(hidden, hidden)\n",
        "       self.linear_3  = nn.Linear(hidden, hidden)\n",
        "       self.linear_4  = nn.Linear(hidden, 1)\n",
        "\n",
        "\n",
        " \n",
        "     def forward(self,x):\n",
        "       if self.clas_simple == 0:\n",
        "         hidden   =  nn.ReLU()(self.linear_3(nn.ReLU()(self.linear_2(nn.ReLU()(self.linear_1(x))))))\n",
        "       elif self.clas_simple == 1:\n",
        "         hidden   =  nn.ReLU()(self.linear_2(nn.ReLU()(self.linear_1(x))))\n",
        "       else:\n",
        "         hidden   =  nn.ReLU()(self.linear_1(x))\n",
        "       out      =  nn.Sigmoid()(self.linear_4(hidden))\n",
        "       return(out, hidden)\n",
        "\n",
        "      \n",
        "class domain_classifier(nn.Module):\n",
        "  \n",
        "     def __init__(self, hidden, adv_simple):\n",
        "      \n",
        "       super(domain_classifier, self).__init__()\n",
        "       self.adv_simple = adv_simple\n",
        "       self.linear_1 = nn.Linear(hidden, hidden)\n",
        "       self.linear_2 = nn.Linear(hidden, hidden)\n",
        "       self.linear_3 = nn.Linear(hidden, 1)\n",
        "        \n",
        "     def forward(self, x):\n",
        "       if self.adv_simple ==0:  \n",
        "         out      = nn.Sigmoid()(self.linear_3(nn.ReLU()(self.linear_1(x))))\n",
        "       elif self.adv_simple == 1:\n",
        "         out      = nn.Sigmoid()(self.linear_3(nn.ReLU()(self.linear_2(nn.ReLU()(self.linear_1(x))))))\n",
        "       else:\n",
        "         out      = nn.Sigmoid()(self.linear_3(x))\n",
        "       return(out)"
      ],
      "execution_count": 0,
      "outputs": []
    },
    {
      "cell_type": "markdown",
      "metadata": {
        "id": "V7orb_fRFdya",
        "colab_type": "text"
      },
      "source": [
        "## Model Training and selection\n",
        "\n",
        "Edwards and Stokey perform random search over hyperparameters. Here random search  was performed over a narrower set of hyperparameters  with a uniform distribution. Models are trained in a loop with varying hyperparameters on one training set. Adversary and classifier are trained alternatingly as described in the paper."
      ]
    },
    {
      "cell_type": "code",
      "metadata": {
        "id": "tkR-W0DkEBO6",
        "colab_type": "code",
        "outputId": "40ded0a1-e33e-495f-f93f-aa5388fa5658",
        "colab": {
          "base_uri": "https://localhost:8080/",
          "height": 145
        }
      },
      "source": [
        "results_dict = {}\n",
        "data_set = adult\n",
        "data_set_size = adult.shape[1]\n",
        "sensitive_variable = adult.columns.get_loc('Gender_Male')\n",
        "data_set = data_set.sample(frac=1, random_state = 0)\n",
        "\n",
        "data_set_train = dataset_for_preprocessed(adult.iloc[:23000,:], sensitive_variable)  \n",
        "data_set_valid = dataset_for_preprocessed(adult.iloc[23000:33000,:], sensitive_variable)  \n",
        "data_set_test = dataset_for_preprocessed(adult.iloc[33000:,:], sensitive_variable)  \n",
        "\n",
        "batch_size = 100\n",
        "\n",
        "dataloader_train = torch.utils.data.DataLoader(data_set_train, batch_size = batch_size, shuffle = True)\n",
        "dataloader_valid = torch.utils.data.DataLoader(data_set_valid, batch_size = 10000, shuffle = False)\n",
        "dataloader_test = torch.utils.data.DataLoader(data_set_test, batch_size = len(adult)-33000, shuffle = False)\n",
        "\n",
        "criterion  = nn.BCELoss()\n",
        "for i in range(100):\n",
        "  hidden      = np.asscalar(np.random.choice(np.arange(16,96),1))\n",
        "  clas_simple = 0#np.asscalar(np.random.choice(np.arange(0,3),1))\n",
        "  adv_simple  = 0 #np.asscalar(np.random.choice(np.arange(0,3),1))\n",
        "  weight      = np.asscalar(np.random.uniform(0,40, 1))\n",
        "  lr          = np.random.uniform(0.001, 0.0001)\n",
        "  model_label = label_classifier(data_set_size-1, hidden, clas_simple).cuda()\n",
        "  model_domain = domain_classifier(hidden, adv_simple).cuda()\n",
        "  optimizer_label = torch.optim.Adam(model_label.parameters(), lr = 0.0001)\n",
        "  optimizer_domain = torch.optim.Adam(model_domain.parameters(), lr = lr)\n",
        "  batch_counter = 0\n",
        "  for epoch in range(50):\n",
        "    for batch in dataloader_train:\n",
        "      X, s, y = batch\n",
        "      X, s, y = X.cuda(), s.cuda(), y.cuda()\n",
        "      out_label, out_features  = model_label(X)\n",
        "      out_domain       = model_domain(out_features)\n",
        "      loss_domain      = criterion(out_domain, s.unsqueeze(1)) \n",
        "      loss_label       = criterion(out_label, y.unsqueeze(1))\n",
        "      loss_domain.backward(retain_graph = True)\n",
        "      for parameter in model_label.parameters():\n",
        "        if parameter.grad is not None:\n",
        "          parameter.grad *= - weight\n",
        "      loss_label.backward() \n",
        "      if batch_counter % 2 == 0:\n",
        "        optimizer_label.step()\n",
        "      else:\n",
        "        optimizer_domain.step()\n",
        "      optimizer_label.zero_grad()\n",
        "      optimizer_domain.zero_grad()\n",
        "      batch_counter += 1\n",
        "  batch = next(iter(dataloader_valid))\n",
        "  X, s, y = batch\n",
        "  X, s, y = X.cuda(), s.cuda(), y.cuda()\n",
        "  out_label, out_features  = model_label(X)\n",
        "  accuracy_valid = ((out_label.squeeze()>0.5).int() == y.int()).sum().float()/len(X)\n",
        "  fairness_valid = -(out_label>0.5)[s==0].sum().float()/len(X) + (out_label>0.5)[s==1].sum().float()/len(X)\n",
        "  \n",
        "  batch = next(iter(dataloader_test))\n",
        "  X, s, y = batch\n",
        "  X, s, y = X.cuda(), s.cuda(), y.cuda()\n",
        "  out_label, out_features  = model_label(X)\n",
        "  accuracy_test = ((out_label.squeeze()>0.5).int() == y.int()).sum().float()/len(X)\n",
        "  fairness_test = -(out_label>0.5)[s==0].sum().float()/len(X) + (out_label>0.5)[s==1].sum().float()/len(X)\n",
        "  \n",
        "  results_dict[i] = {'accuracy_valid': accuracy_valid, 'fairness_valid': fairness_valid, 'accuracy_test': accuracy_test, 'fairness_test': fairness_test}\n",
        "  try:\n",
        "    os.makedirs(f'reproduce_adversarial/')\n",
        "  except FileExistsError:\n",
        "    pass\n",
        "  torch.save(results_dict[i], f'reproduce_adversarial/{i}.tar')\n",
        "  print(results_dict[i])\n",
        "\n",
        "\n",
        "\n"
      ],
      "execution_count": 0,
      "outputs": [
        {
          "output_type": "stream",
          "text": [
            "/usr/local/lib/python3.6/dist-packages/ipykernel_launcher.py:19: DeprecationWarning: np.asscalar(a) is deprecated since NumPy v1.16, use a.item() instead\n",
            "/usr/local/lib/python3.6/dist-packages/ipykernel_launcher.py:22: DeprecationWarning: np.asscalar(a) is deprecated since NumPy v1.16, use a.item() instead\n"
          ],
          "name": "stderr"
        },
        {
          "output_type": "stream",
          "text": [
            "{'accuracy_valid': tensor(0.7539, device='cuda:0'), 'fairness_valid': tensor(0., device='cuda:0'), 'accuracy_test': tensor(0.7469, device='cuda:0'), 'fairness_test': tensor(0., device='cuda:0')}\n",
            "{'accuracy_valid': tensor(0.7539, device='cuda:0'), 'fairness_valid': tensor(0., device='cuda:0'), 'accuracy_test': tensor(0.7469, device='cuda:0'), 'fairness_test': tensor(0., device='cuda:0')}\n",
            "{'accuracy_valid': tensor(0.8074, device='cuda:0'), 'fairness_valid': tensor(0.0793, device='cuda:0'), 'accuracy_test': tensor(0.8044, device='cuda:0'), 'fairness_test': tensor(0.0800, device='cuda:0')}\n",
            "{'accuracy_valid': tensor(0.7539, device='cuda:0'), 'fairness_valid': tensor(0., device='cuda:0'), 'accuracy_test': tensor(0.7469, device='cuda:0'), 'fairness_test': tensor(0., device='cuda:0')}\n"
          ],
          "name": "stdout"
        }
      ]
    },
    {
      "cell_type": "code",
      "metadata": {
        "id": "jo74NhuhIw6a",
        "colab_type": "code",
        "colab": {}
      },
      "source": [
        "data_adv = pd.DataFrame.from_dict(results_dict, orient = 'index')\n",
        "best_model_list = []\n",
        "results_list_adv    = []\n",
        "for tau in np.linspace(0, 3, 100):\n",
        "  value = np.array(data_adv['accuracy_valid']) - tau * np.array(data_adv['fairness_valid']))\n",
        "  idx = np.nanargmax(value)\n",
        "  results_list_adv.append(data_adv.iloc[idx, 2]- tau * data_adv.iloc[idx,3])\n",
        "  best_model_list.append(idx)"
      ],
      "execution_count": 0,
      "outputs": []
    },
    {
      "cell_type": "code",
      "metadata": {
        "id": "lKijrJOZYbuY",
        "colab_type": "code",
        "outputId": "0a3bab82-9e23-4bcb-87a5-1a87e4bd9caa",
        "colab": {
          "base_uri": "https://localhost:8080/",
          "height": 174
        }
      },
      "source": [
        "plt.figure(figsize = (10,2))\n",
        "plotdata = pd.DataFrame({'yt,delta':best_model_list,'t': np.linspace(0,3,100)})\n",
        "sns.lineplot(y = 'yt,delta', x = 't', data = plotdata, color = 'red')\n",
        "plt.xlabel('t')\n",
        "plt.ylabel('yt,delta')\n",
        "plt.title('Results pytorch implementation')\n",
        "plt.savefig('yt_delta.png')\n"
      ],
      "execution_count": 0,
      "outputs": [
        {
          "output_type": "display_data",
          "data": {
            "image/png": "[encoded data removed]",
            "text/plain": [
              "<Figure size 720x144 with 1 Axes>"
            ]
          },
          "metadata": {
            "tags": []
          }
        }
      ]
    },
    {
      "cell_type": "code",
      "metadata": {
        "id": "8HQK0g80YeTy",
        "colab_type": "code",
        "outputId": "fa06fb09-0dcc-4bc6-eb5b-46604431dbc4",
        "colab": {
          "base_uri": "https://localhost:8080/",
          "height": 802
        }
      },
      "source": [
        "plt.figure(figsize = (10,2))\n",
        "plotdata = pd.DataFrame({'accuracy':[np.asscalar(i.numpy()) for i in acc_list_correct],'t': np.linspace(0,3,100)})\n",
        "sns.lineplot(y = 'accuracy', x = 't', data = plotdata, color = 'red')\n"
      ],
      "execution_count": 0,
      "outputs": [
        {
          "output_type": "stream",
          "text": [
            "ERROR:root:Internal Python error in the inspect module.\n",
            "Below is the traceback from this internal error.\n",
            "\n"
          ],
          "name": "stderr"
        },
        {
          "output_type": "stream",
          "text": [
            "Traceback (most recent call last):\n",
            "  File \"/usr/local/lib/python3.6/dist-packages/IPython/core/interactiveshell.py\", line 2882, in run_code\n",
            "    exec(code_obj, self.user_global_ns, self.user_ns)\n",
            "  File \"<ipython-input-11-725fdf478e06>\", line 2, in <module>\n",
            "    plotdata = pd.DataFrame({'accuracy':[np.asscalar(i.numpy()) for i in acc_list_correct],'t': np.linspace(0,3,100)})\n",
            "NameError: name 'acc_list_correct' is not defined\n",
            "\n",
            "During handling of the above exception, another exception occurred:\n",
            "\n",
            "Traceback (most recent call last):\n",
            "  File \"/usr/local/lib/python3.6/dist-packages/IPython/core/interactiveshell.py\", line 1823, in showtraceback\n",
            "    stb = value._render_traceback_()\n",
            "AttributeError: 'NameError' object has no attribute '_render_traceback_'\n",
            "\n",
            "During handling of the above exception, another exception occurred:\n",
            "\n",
            "Traceback (most recent call last):\n",
            "  File \"/usr/local/lib/python3.6/dist-packages/IPython/core/ultratb.py\", line 1132, in get_records\n",
            "    return _fixed_getinnerframes(etb, number_of_lines_of_context, tb_offset)\n",
            "  File \"/usr/local/lib/python3.6/dist-packages/IPython/core/ultratb.py\", line 313, in wrapped\n",
            "    return f(*args, **kwargs)\n",
            "  File \"/usr/local/lib/python3.6/dist-packages/IPython/core/ultratb.py\", line 358, in _fixed_getinnerframes\n",
            "    records = fix_frame_records_filenames(inspect.getinnerframes(etb, context))\n",
            "  File \"/usr/lib/python3.6/inspect.py\", line 1490, in getinnerframes\n",
            "    frameinfo = (tb.tb_frame,) + getframeinfo(tb, context)\n",
            "  File \"/usr/lib/python3.6/inspect.py\", line 1448, in getframeinfo\n",
            "    filename = getsourcefile(frame) or getfile(frame)\n",
            "  File \"/usr/lib/python3.6/inspect.py\", line 696, in getsourcefile\n",
            "    if getattr(getmodule(object, filename), '__loader__', None) is not None:\n",
            "  File \"/usr/lib/python3.6/inspect.py\", line 725, in getmodule\n",
            "    file = getabsfile(object, _filename)\n",
            "  File \"/usr/lib/python3.6/inspect.py\", line 709, in getabsfile\n",
            "    return os.path.normcase(os.path.abspath(_filename))\n",
            "  File \"/usr/lib/python3.6/posixpath.py\", line 383, in abspath\n",
            "    cwd = os.getcwd()\n",
            "OSError: [Errno 107] Transport endpoint is not connected\n"
          ],
          "name": "stdout"
        },
        {
          "output_type": "error",
          "ename": "NameError",
          "evalue": "ignored",
          "traceback": [
            "\u001b[0;31m---------------------------------------------------------------------------\u001b[0m"
          ]
        },
        {
          "output_type": "display_data",
          "data": {
            "text/plain": [
              "<Figure size 720x144 with 0 Axes>"
            ]
          },
          "metadata": {
            "tags": []
          }
        }
      ]
    },
    {
      "cell_type": "code",
      "metadata": {
        "id": "BrgS9br9YgIG",
        "colab_type": "code",
        "outputId": "532839b7-f6d5-4d8b-bb5f-77fbb631cab4",
        "colab": {
          "base_uri": "https://localhost:8080/",
          "height": 802
        }
      },
      "source": [
        "plt.figure(figsize = (10,2))\n",
        "plotdata = pd.DataFrame({'fairness':[np.asscalar(i.numpy()) for i in fair_list_correct],'t': np.linspace(0,3,100)})\n",
        "sns.lineplot(y = 'fairness', x = 't', data = plotdata, color = 'red')\n",
        "plt.savefig('edward_fairness.png')"
      ],
      "execution_count": 0,
      "outputs": [
        {
          "output_type": "stream",
          "text": [
            "ERROR:root:Internal Python error in the inspect module.\n",
            "Below is the traceback from this internal error.\n",
            "\n"
          ],
          "name": "stderr"
        },
        {
          "output_type": "stream",
          "text": [
            "Traceback (most recent call last):\n",
            "  File \"/usr/local/lib/python3.6/dist-packages/IPython/core/interactiveshell.py\", line 2882, in run_code\n",
            "    exec(code_obj, self.user_global_ns, self.user_ns)\n",
            "  File \"<ipython-input-12-5da37374210d>\", line 2, in <module>\n",
            "    plotdata = pd.DataFrame({'fairness':[np.asscalar(i.numpy()) for i in fair_list_correct],'t': np.linspace(0,3,100)})\n",
            "NameError: name 'fair_list_correct' is not defined\n",
            "\n",
            "During handling of the above exception, another exception occurred:\n",
            "\n",
            "Traceback (most recent call last):\n",
            "  File \"/usr/local/lib/python3.6/dist-packages/IPython/core/interactiveshell.py\", line 1823, in showtraceback\n",
            "    stb = value._render_traceback_()\n",
            "AttributeError: 'NameError' object has no attribute '_render_traceback_'\n",
            "\n",
            "During handling of the above exception, another exception occurred:\n",
            "\n",
            "Traceback (most recent call last):\n",
            "  File \"/usr/local/lib/python3.6/dist-packages/IPython/core/ultratb.py\", line 1132, in get_records\n",
            "    return _fixed_getinnerframes(etb, number_of_lines_of_context, tb_offset)\n",
            "  File \"/usr/local/lib/python3.6/dist-packages/IPython/core/ultratb.py\", line 313, in wrapped\n",
            "    return f(*args, **kwargs)\n",
            "  File \"/usr/local/lib/python3.6/dist-packages/IPython/core/ultratb.py\", line 358, in _fixed_getinnerframes\n",
            "    records = fix_frame_records_filenames(inspect.getinnerframes(etb, context))\n",
            "  File \"/usr/lib/python3.6/inspect.py\", line 1490, in getinnerframes\n",
            "    frameinfo = (tb.tb_frame,) + getframeinfo(tb, context)\n",
            "  File \"/usr/lib/python3.6/inspect.py\", line 1448, in getframeinfo\n",
            "    filename = getsourcefile(frame) or getfile(frame)\n",
            "  File \"/usr/lib/python3.6/inspect.py\", line 696, in getsourcefile\n",
            "    if getattr(getmodule(object, filename), '__loader__', None) is not None:\n",
            "  File \"/usr/lib/python3.6/inspect.py\", line 725, in getmodule\n",
            "    file = getabsfile(object, _filename)\n",
            "  File \"/usr/lib/python3.6/inspect.py\", line 709, in getabsfile\n",
            "    return os.path.normcase(os.path.abspath(_filename))\n",
            "  File \"/usr/lib/python3.6/posixpath.py\", line 383, in abspath\n",
            "    cwd = os.getcwd()\n",
            "OSError: [Errno 107] Transport endpoint is not connected\n"
          ],
          "name": "stdout"
        },
        {
          "output_type": "error",
          "ename": "NameError",
          "evalue": "ignored",
          "traceback": [
            "\u001b[0;31m---------------------------------------------------------------------------\u001b[0m"
          ]
        },
        {
          "output_type": "display_data",
          "data": {
            "text/plain": [
              "<Figure size 720x144 with 0 Axes>"
            ]
          },
          "metadata": {
            "tags": []
          }
        }
      ]
    }
  ]
}